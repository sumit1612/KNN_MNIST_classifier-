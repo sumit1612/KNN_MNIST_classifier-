{
  "nbformat": 4,
  "nbformat_minor": 0,
  "metadata": {
    "colab": {
      "name": "Classifier for MNIST dataset using KNN",
      "provenance": []
    },
    "kernelspec": {
      "name": "python3",
      "display_name": "Python 3"
    },
    "language_info": {
      "name": "python"
    }
  },
  "cells": [
    {
      "cell_type": "code",
      "metadata": {
        "colab": {
          "base_uri": "https://localhost:8080/"
        },
        "id": "BRqT1cl2gOMx",
        "outputId": "d3435d32-df8e-4c5a-990d-873dda7f5bd4"
      },
      "source": [
        "import pandas as pd\n",
        "import numpy as np\n",
        "import matplotlib.pyplot as plt\n",
        "from sklearn.datasets import fetch_openml\n",
        "mnist = fetch_openml('mnist_784', version = 1) \n",
        "mnist.keys()"
      ],
      "execution_count": null,
      "outputs": [
        {
          "output_type": "execute_result",
          "data": {
            "text/plain": [
              "dict_keys(['data', 'target', 'frame', 'feature_names', 'target_names', 'DESCR', 'details', 'categories', 'url'])"
            ]
          },
          "metadata": {
            "tags": []
          },
          "execution_count": 76
        }
      ]
    },
    {
      "cell_type": "code",
      "metadata": {
        "id": "i5NL0micinwB"
      },
      "source": [
        "X , y = mnist['data'] , mnist['target']\n",
        "X_train , X_test , y_train , y_test  = X[:60000] , X[60000:] , y[:60000] , y[60000:]\n",
        "digits = np.reshape(X_train,(60000,28,28))\n",
        "digits = digits/255   #normalizing "
      ],
      "execution_count": null,
      "outputs": []
    },
    {
      "cell_type": "code",
      "metadata": {
        "colab": {
          "base_uri": "https://localhost:8080/"
        },
        "id": "V0PsVfeAvxf8",
        "outputId": "96a3f0f0-d4e4-4e40-e436-10c4fa251941"
      },
      "source": [
        "digits[0].shape"
      ],
      "execution_count": null,
      "outputs": [
        {
          "output_type": "execute_result",
          "data": {
            "text/plain": [
              "(28, 28)"
            ]
          },
          "metadata": {
            "tags": []
          },
          "execution_count": 87
        }
      ]
    },
    {
      "cell_type": "code",
      "metadata": {
        "id": "_jqgbI-jUq8p"
      },
      "source": [
        "def plot(image):\n",
        "  plt.imshow(image, cmap = 'gray')\n",
        "  plt.show()"
      ],
      "execution_count": null,
      "outputs": []
    },
    {
      "cell_type": "code",
      "metadata": {
        "colab": {
          "base_uri": "https://localhost:8080/",
          "height": 248
        },
        "id": "-DftJTaCiaaY",
        "outputId": "e14f449d-b7cd-40bb-c75e-3d68b42dfde9"
      },
      "source": [
        "plot(digits[0])"
      ],
      "execution_count": null,
      "outputs": [
        {
          "output_type": "display_data",
          "data": {
            "image/png": "[encoded data removed]",
            "text/plain": [
              "<Figure size 432x288 with 1 Axes>"
            ]
          },
          "metadata": {
            "tags": [],
            "needs_background": "light"
          }
        }
      ]
    },
    {
      "cell_type": "code",
      "metadata": {
        "colab": {
          "base_uri": "https://localhost:8080/",
          "height": 281
        },
        "id": "7xberqjx8Ash",
        "outputId": "b9984e9b-4438-404d-f4bc-310082e9abe0"
      },
      "source": [
        "frequency = pd.value_counts(y_train)\n",
        "name = list(frequency.keys())\n",
        "plt.title('Frequency distribution of digits')\n",
        "plt.bar(name,frequency)\n",
        "plt.show()"
      ],
      "execution_count": null,
      "outputs": [
        {
          "output_type": "display_data",
          "data": {
            "image/png": "[encoded data removed]",
            "text/plain": [
              "<Figure size 432x288 with 1 Axes>"
            ]
          },
          "metadata": {
            "tags": [],
            "needs_background": "light"
          }
        }
      ]
    },
    {
      "cell_type": "code",
      "metadata": {
        "id": "CNFcelifI4gN"
      },
      "source": [
        "from sklearn.preprocessing import StandardScaler\n",
        "from sklearn.model_selection import cross_val_predict"
      ],
      "execution_count": null,
      "outputs": []
    },
    {
      "cell_type": "code",
      "metadata": {
        "colab": {
          "base_uri": "https://localhost:8080/",
          "height": 201
        },
        "id": "PAsHZbtQkECO",
        "outputId": "7d9f8242-7e5e-452b-c4bb-c0a86bc57704"
      },
      "source": [
        "from sklearn.neighbors import KNeighborsClassifier\n",
        "knn_clf = KNeighborsClassifier()\n",
        "ss = StandardScaler()\n",
        "ss.fit_transform(X_train)\n",
        "y_train_pred = cross_val_predict(knn_clf, X_train, y_train, cv = 3)"
      ],
      "execution_count": null,
      "outputs": [
        {
          "output_type": "error",
          "ename": "NameError",
          "evalue": "ignored",
          "traceback": [
            "\u001b[0;31m---------------------------------------------------------------------------\u001b[0m",
            "\u001b[0;31mNameError\u001b[0m                                 Traceback (most recent call last)",
            "\u001b[0;32m<ipython-input-82-f374a9e120c6>\u001b[0m in \u001b[0;36m<module>\u001b[0;34m()\u001b[0m\n\u001b[1;32m      4\u001b[0m \u001b[0mss\u001b[0m\u001b[0;34m.\u001b[0m\u001b[0mfit_transform\u001b[0m\u001b[0;34m(\u001b[0m\u001b[0mX_train\u001b[0m\u001b[0;34m)\u001b[0m\u001b[0;34m\u001b[0m\u001b[0;34m\u001b[0m\u001b[0m\n\u001b[1;32m      5\u001b[0m \u001b[0my_train_pred\u001b[0m \u001b[0;34m=\u001b[0m \u001b[0mcross_val_predict\u001b[0m\u001b[0;34m(\u001b[0m\u001b[0mknn_clf\u001b[0m\u001b[0;34m,\u001b[0m \u001b[0mX_train\u001b[0m\u001b[0;34m,\u001b[0m \u001b[0my_train\u001b[0m\u001b[0;34m,\u001b[0m \u001b[0mcv\u001b[0m \u001b[0;34m=\u001b[0m \u001b[0;36m3\u001b[0m\u001b[0;34m)\u001b[0m\u001b[0;34m\u001b[0m\u001b[0;34m\u001b[0m\u001b[0m\n\u001b[0;32m----> 6\u001b[0;31m \u001b[0mconf_mx\u001b[0m \u001b[0;34m=\u001b[0m \u001b[0mconfusion_matrix\u001b[0m\u001b[0;34m(\u001b[0m\u001b[0my_train\u001b[0m\u001b[0;34m,\u001b[0m\u001b[0my_train_pred\u001b[0m\u001b[0;34m)\u001b[0m\u001b[0;34m\u001b[0m\u001b[0;34m\u001b[0m\u001b[0m\n\u001b[0m",
            "\u001b[0;31mNameError\u001b[0m: name 'confusion_matrix' is not defined"
          ]
        }
      ]
    },
    {
      "cell_type": "code",
      "metadata": {
        "id": "7gry2hSQmnzG"
      },
      "source": [
        "from sklearn.metrics import confusion_matrix\n",
        "conf_mx = confusion_matrix(y_train,y_train_pred)\n"
      ],
      "execution_count": null,
      "outputs": []
    },
    {
      "cell_type": "code",
      "metadata": {
        "colab": {
          "base_uri": "https://localhost:8080/"
        },
        "id": "ej1PfloPd-Eq",
        "outputId": "cb25ead1-df80-40d6-828e-91fb2d4800ac"
      },
      "source": [
        "precision = []\n",
        "recall = []\n",
        "row_sum = conf_mx.sum(axis = 1)\n",
        "col_sum = conf_mx.sum(axis = 0)\n",
        "for i in range(len(conf_mx[0])):\n",
        "  precision.append(conf_mx[i][i]/col_sum[i])\n",
        "  recall.append(conf_mx[i][i]/row_sum[i])\n",
        "  print(str(i)+\" : \"+\"Precision: \"+str(precision[i])+\" Recall: \"+str(recall[i]))\n"
      ],
      "execution_count": null,
      "outputs": [
        {
          "output_type": "stream",
          "text": [
            "0 : Precision: 0.975132625994695 Recall: 0.9930778321796387\n",
            "1 : Precision: 0.9530916844349681 Recall: 0.9945120142390982\n",
            "2 : Precision: 0.9837623078251857 Recall: 0.9558576703591809\n",
            "3 : Precision: 0.9640699003756329 Recall: 0.9628119393247431\n",
            "4 : Precision: 0.9781021897810219 Recall: 0.9633687093461143\n",
            "5 : Precision: 0.958785648574057 Recall: 0.961261759822911\n",
            "6 : Precision: 0.977101788400468 Recall: 0.9878337276106793\n",
            "7 : Precision: 0.9597664878510571 Recall: 0.9709497206703911\n",
            "8 : Precision: 0.984092155787164 Recall: 0.9198427619210391\n",
            "9 : Precision: 0.9450513075140682 Recall: 0.9598251807026391\n"
          ],
          "name": "stdout"
        }
      ]
    },
    {
      "cell_type": "markdown",
      "metadata": {
        "id": "bocsdOE026ok"
      },
      "source": [
        "\n",
        "\n",
        "\n",
        "```\n",
        "0 : Precision: 0.975132625994695 Recall: 0.9930778321796387\n",
        "1 : Precision: 0.9530916844349681 Recall: 0.9945120142390982\n",
        "2 : Precision: 0.9837623078251857 Recall: 0.9558576703591809\n",
        "3 : Precision: 0.9640699003756329 Recall: 0.9628119393247431\n",
        "4 : Precision: 0.9781021897810219 Recall: 0.9633687093461143\n",
        "5 : Precision: 0.958785648574057 Recall: 0.961261759822911\n",
        "6 : Precision: 0.977101788400468 Recall: 0.9878337276106793\n",
        "7 : Precision: 0.9597664878510571 Recall: 0.9709497206703911\n",
        "8 : Precision: 0.984092155787164 Recall: 0.9198427619210391\n",
        "9 : Precision: 0.9450513075140682 Recall: 0.9598251807026391\n",
        "```\n",
        "\n"
      ]
    },
    {
      "cell_type": "code",
      "metadata": {
        "id": "9ttFsc1B26Ph"
      },
      "source": [
        ""
      ],
      "execution_count": null,
      "outputs": []
    },
    {
      "cell_type": "code",
      "metadata": {
        "id": "L2qyWjzmnj-r"
      },
      "source": [
        "# from sklearn.model_selection import StratifiedShuffleSplit\n",
        "# from sklearn.base import clone\n",
        "# sss = StratifiedShuffleSplit(n_splits = 3, test_size = 0.2, random_state = 42)\n",
        "# sss.get_n_splits(X_train,y_train)\n",
        "# for train_index , test_index in sss.split(X_train, y_train):\n",
        "#   clone_clf = clone(knn_clf)\n",
        "#   clone_clf.fit(X_train[train_index], y_train[train_index])\n",
        "#   predict = clone_clf.predict(X_train[test_index])\n",
        "#   print(sum(predict==y_train[test_index])/len(y_train[test_index]))\n",
        "\n"
      ],
      "execution_count": null,
      "outputs": []
    },
    {
      "cell_type": "markdown",
      "metadata": {
        "id": "TabS1rWxZ48M"
      },
      "source": [
        "\n",
        "\n",
        "```\n",
        "0.9684166666666667\n",
        "0.9740833333333333\n",
        "0.9704166666666667\n",
        "```\n"
      ]
    },
    {
      "cell_type": "code",
      "metadata": {
        "colab": {
          "base_uri": "https://localhost:8080/",
          "height": 513
        },
        "id": "mdquuw7grI8-",
        "outputId": "42b037fa-b83f-4143-c409-57aff3692603"
      },
      "source": [
        "# Data Augmentation\n",
        "\n",
        "def BottomShift(IntArray):\n",
        "  mat = IntArray.reshape(28,28)\n",
        "  mat_t = np.zeros((28,28))\n",
        "  for i in range(len(mat[0])-2):\n",
        "    mat_t[:][i+2]= mat[:][i]\n",
        "  return mat_t.reshape(IntArray.shape)\n",
        "def TopShift(IntArray):\n",
        "  mat = IntArray.reshape(28,28)\n",
        "  mat_t = np.zeros((28,28))\n",
        "  for i in range(1,len(mat[0])-2):\n",
        "    mat_t[:][i]= mat[:][i+2]\n",
        "  return mat_t.reshape(IntArray.shape)\n",
        "def RightShift(IntArray):\n",
        "  mat = IntArray.reshape(28,28)\n",
        "  mat_t = np.zeros((28,28))\n",
        "  for i in range(2,len(mat[0])):\n",
        "    mat_t[i-2][:] = mat[i][:]\n",
        "  return(mat_t.reshape(IntArray.shape))\n",
        "def LeftShift(IntArray):\n",
        "  mat = IntArray.reshape(28,28)\n",
        "  mat_t = np.zeros((28,28))\n",
        "  for i in range(0,len(mat[0])-2):\n",
        "    mat_t[i][:] = mat[i+2][:]\n",
        "  return(mat_t.reshape(IntArray.shape))\n",
        "\n",
        "\n",
        "plot(digits[1])\n",
        "plot(TopShift(digits[1]))\n"
      ],
      "execution_count": null,
      "outputs": [
        {
          "output_type": "display_data",
          "data": {
            "image/png": "[encoded data removed]",
            "text/plain": [
              "<Figure size 432x288 with 1 Axes>"
            ]
          },
          "metadata": {
            "tags": [],
            "needs_background": "light"
          }
        },
        {
          "output_type": "display_data",
          "data": {
            "image/png": "[encoded data removed]",
            "text/plain": [
              "<Figure size 432x288 with 1 Axes>"
            ]
          },
          "metadata": {
            "tags": [],
            "needs_background": "light"
          }
        }
      ]
    },
    {
      "cell_type": "code",
      "metadata": {
        "colab": {
          "base_uri": "https://localhost:8080/"
        },
        "id": "xiXoXfpJ0jtc",
        "outputId": "b855acce-c873-4deb-b5d8-750e6770dabf"
      },
      "source": [
        "ss.fit(X_test)"
      ],
      "execution_count": null,
      "outputs": [
        {
          "output_type": "execute_result",
          "data": {
            "text/plain": [
              "StandardScaler(copy=True, with_mean=True, with_std=True)"
            ]
          },
          "metadata": {
            "tags": []
          },
          "execution_count": 116
        }
      ]
    },
    {
      "cell_type": "code",
      "metadata": {
        "colab": {
          "base_uri": "https://localhost:8080/"
        },
        "id": "LDQNhv4-8dR-",
        "outputId": "86ba89d4-61cf-4e38-bd4d-90cd4f481c7c"
      },
      "source": [
        "from sklearn.metrics import accuracy_score\n",
        "knn_clf.fit(X_train,y_train)\n",
        "pred = knn_clf.predict(X_test)"
      ],
      "execution_count": null,
      "outputs": [
        {
          "output_type": "stream",
          "text": [
            "['7' '2' '1' ... '4' '5' '6'] ['7' '2' '1' ... '4' '5' '6']\n"
          ],
          "name": "stdout"
        }
      ]
    },
    {
      "cell_type": "code",
      "metadata": {
        "colab": {
          "base_uri": "https://localhost:8080/"
        },
        "id": "oNvBzleX9Imy",
        "outputId": "12b3dc90-b821-462d-e997-db137a17062c"
      },
      "source": [
        "print(accuracy_score(y_test,pred))"
      ],
      "execution_count": null,
      "outputs": [
        {
          "output_type": "stream",
          "text": [
            "0.9688\n"
          ],
          "name": "stdout"
        }
      ]
    },
    {
      "cell_type": "code",
      "metadata": {
        "id": "kQEBx4csCDmh"
      },
      "source": [
        ""
      ],
      "execution_count": null,
      "outputs": []
    }
  ]
}